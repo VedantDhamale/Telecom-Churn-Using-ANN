{
 "cells": [
  {
   "cell_type": "markdown",
   "id": "95613f3d-f708-48bb-9376-bd2ab21489b1",
   "metadata": {},
   "source": [
    "# Mini-Project\n",
    "Name: Vedant Sanjay Dhamale\n",
    "\n",
    "Roll No:2337032\n",
    "\n",
    "Batch: B"
   ]
  },
  {
   "cell_type": "code",
   "execution_count": 2,
   "id": "676f4ea7-ee37-43d4-af12-b8189f9a408c",
   "metadata": {},
   "outputs": [],
   "source": [
    "import numpy as np\n",
    "\n",
    "class ANN:\n",
    "    def __init__(self,input_size,hidden_layers,hidden_neurons,output_size,learning_rate):\n",
    "        self.weights=[]\n",
    "        self.bias=[]\n",
    "        self.hidden_layers=hidden_layers\n",
    "        self.learning_rate=learning_rate;\n",
    "        \n",
    "        for i in range(hidden_layers+1):\n",
    "            if i==0:\n",
    "                self.weights.append(np.random.randn(hidden_neurons,input_size))\n",
    "                self.bias.append(np.full((hidden_neurons,1),1))\n",
    "            elif i==hidden_layers:\n",
    "                self.weights.append(np.random.randn(output_size,hidden_neurons))\n",
    "                self.bias.append(np.full((output_size,1),1))\n",
    "            else:\n",
    "                self.weights.append(np.random.randn(hidden_neurons,hidden_neurons))\n",
    "                self.bias.append(np.full((hidden_neurons,1),1))\n",
    "                \n",
    "    def sigmoid(self, x):\n",
    "        return 1 / (1 + np.exp(-x))\n",
    "\n",
    "    def first_order_sigmoid(self, x):\n",
    "        return self.sigmoid(x) * (1 - self.sigmoid(x))\n",
    "            \n",
    "    def forward(self,x):\n",
    "        activations=[]\n",
    "        activations.append(x)\n",
    "        for i in range(self.hidden_layers+1):\n",
    "            x=np.dot(self.weights[i],activations[i])+self.bias[i]\n",
    "            activations.append(self.sigmoid(x))\n",
    "        return activations\n",
    "\n",
    "    def backward(self,activations,di,m):\n",
    "        delta=(activations[-1]-di.T) * self.first_order_sigmoid(np.dot(self.weights[-1],activations[-2])+self.bias[-1])\n",
    "        for i in range(self.hidden_layers,-1,-1):\n",
    "            if i==self.hidden_layers:\n",
    "                prev=np.array(self.weights[i])\n",
    "                self.weights[i]=self.weights[i]-(self.learning_rate/m) * np.dot(delta,activations[i].T)\n",
    "                self.bias[i]=self.bias[i]-(self.learning_rate/m) * np.sum(delta,axis=1,keepdims=True)\n",
    "            else:\n",
    "                delta=np.dot(prev.T, delta) * self.first_order_sigmoid(np.dot(self.weights[i], activations[i])+self.bias[i])\n",
    "                prev=np.array(self.weights[i])\n",
    "                self.weights[i]=self.weights[i]-(self.learning_rate/m) * np.dot(delta,activations[i].T)\n",
    "                self.bias[i]=self.bias[i]-(self.learning_rate/m) * np.sum(delta,axis=1,keepdims=True)\n",
    "            \n",
    "    def train(self,x,y,epochs):\n",
    "        for i in range(epochs):\n",
    "            activations=self.forward(x)\n",
    "            m=x.shape[1]\n",
    "            self.backward(activations,y,m)\n",
    "            if(i%1000==0):\n",
    "                print(\"Error at %d epoch : \"%(i),np.sum(activations[-1]-y.T))\n",
    "            \n",
    "    def predict(self,x):\n",
    "        predictions=[]\n",
    "        for input in x:\n",
    "            prediction = self.forward(np.array(input))\n",
    "            predictions.append(prediction[-1])\n",
    "        return predictions\n",
    "        "
   ]
  },
  {
   "cell_type": "code",
   "execution_count": 3,
   "id": "f93d18a6-7500-4d2b-8f77-6b80dccede2e",
   "metadata": {},
   "outputs": [],
   "source": [
    "input_size=20\n",
    "hidden_layers=4\n",
    "neurons_in_hidden_layer=40\n",
    "output_size=2\n",
    "learning_rate=0.1\n",
    "\n",
    "model=ANN(input_size,hidden_layers,neurons_in_hidden_layer,output_size,learning_rate)"
   ]
  },
  {
   "cell_type": "code",
   "execution_count": 4,
   "id": "162f535e-affe-422c-978a-917ad10eb431",
   "metadata": {},
   "outputs": [],
   "source": [
    "import pandas as pd\n",
    "\n",
    "df=pd.read_csv('churn-bigml-80.csv')\n"
   ]
  },
  {
   "cell_type": "code",
   "execution_count": 5,
   "id": "7fb3046b",
   "metadata": {},
   "outputs": [],
   "source": [
    "from sklearn.preprocessing import LabelEncoder\n",
    "lc = LabelEncoder()\n",
    "\n",
    "df['State'] = lc.fit_transform(df['State'])\n",
    "df['International plan'] = lc.fit_transform(df['International plan'])\n",
    "df['ground_floor_type'] = lc.fit_transform(df['Voice mail plan'])\n",
    "df['Churn'] = lc.fit_transform(df['Churn'])\n",
    "df['Voice mail plan'] = lc.fit_transform(df['Voice mail plan'])"
   ]
  },
  {
   "cell_type": "code",
   "execution_count": 6,
   "id": "87593d84",
   "metadata": {},
   "outputs": [],
   "source": [
    "\n",
    "x = df.drop('Churn', axis=1)\n",
    "y=df['Churn']"
   ]
  },
  {
   "cell_type": "code",
   "execution_count": 7,
   "id": "537c5701",
   "metadata": {},
   "outputs": [
    {
     "data": {
      "text/plain": [
       "(2666, 21)"
      ]
     },
     "execution_count": 7,
     "metadata": {},
     "output_type": "execute_result"
    }
   ],
   "source": [
    "df.shape"
   ]
  },
  {
   "cell_type": "code",
   "execution_count": 8,
   "id": "c2728c7e",
   "metadata": {},
   "outputs": [
    {
     "data": {
      "text/plain": [
       "State                       int32\n",
       "Account length              int64\n",
       "Area code                   int64\n",
       "International plan          int32\n",
       "Voice mail plan             int32\n",
       "Number vmail messages       int64\n",
       "Total day minutes         float64\n",
       "Total day calls             int64\n",
       "Total day charge          float64\n",
       "Total eve minutes         float64\n",
       "Total eve calls             int64\n",
       "Total eve charge          float64\n",
       "Total night minutes       float64\n",
       "Total night calls           int64\n",
       "Total night charge        float64\n",
       "Total intl minutes        float64\n",
       "Total intl calls            int64\n",
       "Total intl charge         float64\n",
       "Customer service calls      int64\n",
       "Churn                       int64\n",
       "ground_floor_type           int32\n",
       "dtype: object"
      ]
     },
     "execution_count": 8,
     "metadata": {},
     "output_type": "execute_result"
    }
   ],
   "source": [
    "df.dtypes"
   ]
  },
  {
   "cell_type": "code",
   "execution_count": 9,
   "id": "0b9f4efb-0a06-4d41-b587-9fac4f837541",
   "metadata": {},
   "outputs": [
    {
     "name": "stdout",
     "output_type": "stream",
     "text": [
      "WARNING:tensorflow:From d:\\New folder\\envs\\ds_env\\Lib\\site-packages\\keras\\src\\losses.py:2976: The name tf.losses.sparse_softmax_cross_entropy is deprecated. Please use tf.compat.v1.losses.sparse_softmax_cross_entropy instead.\n",
      "\n"
     ]
    }
   ],
   "source": [
    "import numpy as np\n",
    "from sklearn.preprocessing import LabelEncoder\n",
    "label_encoder = LabelEncoder()\n",
    "encoded_labels = label_encoder.fit_transform(y)\n",
    "\n",
    "from sklearn.model_selection import train_test_split\n",
    "x_train,x_test,y_train,y_test=train_test_split(x,encoded_labels,test_size=0.2,random_state=62)\n",
    "\n",
    "from tensorflow.keras.utils import to_categorical\n",
    "\n",
    "labels = np.array(y_train)\n",
    "y_train = to_categorical(labels)\n",
    "y_train=np.array(y_train)"
   ]
  },
  {
   "cell_type": "code",
   "execution_count": 10,
   "id": "737d5d4a-9b12-436f-b441-3ff714f27cfe",
   "metadata": {},
   "outputs": [],
   "source": [
    "x_train=x_train.values\n",
    "x_train=np.array(x_train)\n",
    "x_train=x_train.T\n",
    "x_test=x_test.values"
   ]
  },
  {
   "cell_type": "code",
   "execution_count": 11,
   "id": "c609d4c4-3282-4f0e-b126-7034d9eb59d1",
   "metadata": {},
   "outputs": [
    {
     "data": {
      "text/plain": [
       "array([[1., 0.],\n",
       "       [1., 0.],\n",
       "       [1., 0.],\n",
       "       ...,\n",
       "       [1., 0.],\n",
       "       [0., 1.],\n",
       "       [1., 0.]], dtype=float32)"
      ]
     },
     "execution_count": 11,
     "metadata": {},
     "output_type": "execute_result"
    }
   ],
   "source": [
    "y_train"
   ]
  },
  {
   "cell_type": "code",
   "execution_count": 12,
   "id": "3408c98a-2b41-460d-a111-5a1908d58bbd",
   "metadata": {},
   "outputs": [
    {
     "name": "stderr",
     "output_type": "stream",
     "text": [
      "C:\\Users\\lenovo\\AppData\\Local\\Temp\\ipykernel_19136\\1263177278.py:22: RuntimeWarning: overflow encountered in exp\n",
      "  return 1 / (1 + np.exp(-x))\n"
     ]
    },
    {
     "name": "stdout",
     "output_type": "stream",
     "text": [
      "Error at 0 epoch :  383.95015825699966\n",
      "Error at 1000 epoch :  1.803450609545373\n",
      "Error at 2000 epoch :  0.7671765693605193\n",
      "Error at 3000 epoch :  1.1558830491792484\n",
      "Error at 4000 epoch :  1.67960515609328\n",
      "Error at 5000 epoch :  1.72038766669223\n",
      "Error at 6000 epoch :  2.21898728231376\n",
      "Error at 7000 epoch :  2.2295110262146407\n",
      "Error at 8000 epoch :  1.9412227993829037\n",
      "Error at 9000 epoch :  1.4009190471520725\n",
      "Error at 10000 epoch :  0.8020901263944546\n",
      "Error at 11000 epoch :  0.46319989474565215\n",
      "Error at 12000 epoch :  0.3712223191962689\n",
      "Error at 13000 epoch :  0.1556428376839012\n",
      "Error at 14000 epoch :  0.04241636878155752\n",
      "Error at 15000 epoch :  0.1284736432575544\n",
      "Error at 16000 epoch :  0.3269421989944945\n",
      "Error at 17000 epoch :  0.3781280665622102\n",
      "Error at 18000 epoch :  0.38868551918094685\n",
      "Error at 19000 epoch :  0.39191535665174193\n",
      "Error at 20000 epoch :  0.27985418753298763\n",
      "Error at 21000 epoch :  0.3872050472249873\n",
      "Error at 22000 epoch :  0.4871606917116802\n",
      "Error at 23000 epoch :  0.6359597678332438\n",
      "Error at 24000 epoch :  0.8056801966221823\n",
      "Error at 25000 epoch :  0.6127840529368882\n",
      "Error at 26000 epoch :  0.72904446724921\n",
      "Error at 27000 epoch :  0.6190031683689678\n",
      "Error at 28000 epoch :  1.051645671581726\n",
      "Error at 29000 epoch :  0.99252279735071\n",
      "Error at 30000 epoch :  1.4191014804526993\n",
      "Error at 31000 epoch :  1.5539681615828158\n",
      "Error at 32000 epoch :  1.856547264710633\n",
      "Error at 33000 epoch :  2.075853546131265\n",
      "Error at 34000 epoch :  2.2874185169150945\n",
      "Error at 35000 epoch :  2.367514343416202\n",
      "Error at 36000 epoch :  2.446680901194739\n",
      "Error at 37000 epoch :  2.479155917821366\n",
      "Error at 38000 epoch :  2.5792652569308787\n",
      "Error at 39000 epoch :  2.7283982932094446\n",
      "Error at 40000 epoch :  2.61261462749023\n",
      "Error at 41000 epoch :  2.342516788194282\n",
      "Error at 42000 epoch :  2.3116212466635906\n",
      "Error at 43000 epoch :  2.415940811102992\n",
      "Error at 44000 epoch :  2.2261560989127798\n",
      "Error at 45000 epoch :  2.2443314223389095\n",
      "Error at 46000 epoch :  2.107060912896328\n",
      "Error at 47000 epoch :  1.9917380090331909\n",
      "Error at 48000 epoch :  1.412612317020761\n",
      "Error at 49000 epoch :  1.895532239132299\n",
      "Error at 50000 epoch :  1.0707238144583862\n",
      "Error at 51000 epoch :  0.8169826981100972\n",
      "Error at 52000 epoch :  1.296016865971251\n",
      "Error at 53000 epoch :  0.8895974721712161\n",
      "Error at 54000 epoch :  0.8547760904673893\n",
      "Error at 55000 epoch :  0.6280462879058684\n",
      "Error at 56000 epoch :  0.4895617818302638\n",
      "Error at 57000 epoch :  0.4530033782649632\n",
      "Error at 58000 epoch :  0.3926288712093404\n",
      "Error at 59000 epoch :  0.16855004009117724\n",
      "Error at 60000 epoch :  -0.0073830419160536565\n",
      "Error at 61000 epoch :  -0.05712052088662034\n",
      "Error at 62000 epoch :  -0.309715808044873\n",
      "Error at 63000 epoch :  -0.5500090021724873\n",
      "Error at 64000 epoch :  -0.6719814790574619\n",
      "Error at 65000 epoch :  -0.2827580634738127\n",
      "Error at 66000 epoch :  0.04275675841094184\n",
      "Error at 67000 epoch :  -0.0874713215684162\n",
      "Error at 68000 epoch :  -0.18278938004150902\n",
      "Error at 69000 epoch :  -0.32098177563383645\n",
      "Error at 70000 epoch :  -0.4321485135315095\n",
      "Error at 71000 epoch :  -1.2051539501842168\n",
      "Error at 72000 epoch :  -0.7479940807583318\n",
      "Error at 73000 epoch :  -0.8563728265549968\n",
      "Error at 74000 epoch :  -1.0088590017091734\n",
      "Error at 75000 epoch :  -1.248987998369457\n",
      "Error at 76000 epoch :  -1.3564759309699044\n",
      "Error at 77000 epoch :  -1.2837712339423533\n",
      "Error at 78000 epoch :  -1.410010704785027\n",
      "Error at 79000 epoch :  -1.3121575555711047\n",
      "Error at 80000 epoch :  -1.3837934468475908\n",
      "Error at 81000 epoch :  -1.2930291569441694\n",
      "Error at 82000 epoch :  -1.3404326249363976\n",
      "Error at 83000 epoch :  -1.223326445135143\n",
      "Error at 84000 epoch :  -1.4640928908319353\n",
      "Error at 85000 epoch :  -1.4360090161898418\n",
      "Error at 86000 epoch :  -1.2690961889719574\n",
      "Error at 87000 epoch :  -1.3205264537790309\n",
      "Error at 88000 epoch :  -1.2653540814395123\n",
      "Error at 89000 epoch :  -1.2847916727035722\n",
      "Error at 90000 epoch :  -1.1214154415161643\n",
      "Error at 91000 epoch :  -1.2567189939251442\n",
      "Error at 92000 epoch :  -1.200459651822988\n",
      "Error at 93000 epoch :  -1.3021797969313433\n",
      "Error at 94000 epoch :  -1.1678845607376576\n",
      "Error at 95000 epoch :  -0.9162477504362343\n",
      "Error at 96000 epoch :  -1.0320521571413748\n",
      "Error at 97000 epoch :  -1.0840600451529951\n",
      "Error at 98000 epoch :  -1.1450752951759737\n",
      "Error at 99000 epoch :  -1.012740437320498\n"
     ]
    }
   ],
   "source": [
    "epochs=100000\n",
    "model.train(x_train,y_train,epochs)"
   ]
  },
  {
   "cell_type": "code",
   "execution_count": 13,
   "id": "99095d2b-561f-4f1c-8db7-ceba28fd3492",
   "metadata": {},
   "outputs": [],
   "source": [
    "test_sample=[]\n",
    "for i in x_test:\n",
    "    test_sample.append([[x] for x in i.tolist()])"
   ]
  },
  {
   "cell_type": "code",
   "execution_count": 14,
   "id": "73990906-ddc6-4cfd-9555-68dcd7053572",
   "metadata": {},
   "outputs": [
    {
     "name": "stderr",
     "output_type": "stream",
     "text": [
      "C:\\Users\\lenovo\\AppData\\Local\\Temp\\ipykernel_19136\\1263177278.py:22: RuntimeWarning: overflow encountered in exp\n",
      "  return 1 / (1 + np.exp(-x))\n"
     ]
    }
   ],
   "source": [
    "y_pred=model.predict(test_sample)\n",
    "y_pred = np.hstack([np.argmax(arr, axis=0) for arr in y_pred]).flatten()"
   ]
  },
  {
   "cell_type": "code",
   "execution_count": 15,
   "id": "28b030a9-750a-443a-b01d-1ea8d5f367ba",
   "metadata": {},
   "outputs": [
    {
     "name": "stdout",
     "output_type": "stream",
     "text": [
      "[0 0 0 0 0 1 1 0 0 0 0 0 0 0 0 0 0 0 0 0 0 0 0 0 0 0 0 0 0 1 0 0 1 0 0 0 0\n",
      " 0 0 0 1 0 0 0 0 1 0 0 1 0 0 0 0 0 0 0 0 0 0 0 0 0 0 0 0 0 0 0 0 0 0 0 0 0\n",
      " 1 0 1 0 1 0 0 0 0 0 0 0 0 0 0 0 0 0 0 1 0 0 0 0 0 0 0 0 0 1 0 0 0 0 0 0 0\n",
      " 0 0 0 1 0 0 0 0 0 0 1 0 0 0 0 0 0 1 0 0 0 0 0 1 0 0 0 0 0 0 0 0 0 0 0 0 0\n",
      " 1 0 0 0 0 0 0 0 1 0 0 0 0 1 0 1 1 1 0 0 1 0 0 0 0 0 0 0 0 0 0 0 0 0 0 0 0\n",
      " 1 0 0 0 0 0 0 0 0 0 0 1 1 0 0 0 0 0 0 0 1 0 0 1 0 0 0 0 0 0 0 0 0 0 0 0 0\n",
      " 1 0 1 0 0 0 0 0 0 0 0 0 0 0 0 0 0 0 0 0 0 0 0 0 0 0 0 0 0 0 0 0 0 0 0 1 0\n",
      " 0 0 0 0 0 0 0 0 0 0 0 0 0 1 1 0 0 0 0 0 0 0 1 0 1 1 0 0 0 0 0 0 0 0 0 0 0\n",
      " 0 0 0 0 0 0 0 0 0 0 0 0 1 0 0 0 0 0 0 0 0 0 1 1 0 0 0 1 0 0 0 0 0 0 0 0 0\n",
      " 0 0 0 0 0 0 0 0 0 0 0 1 0 0 0 0 0 0 1 0 0 1 1 0 0 0 1 0 0 1 0 0 0 0 0 0 0\n",
      " 0 0 0 0 0 0 0 0 0 0 1 0 0 0 0 0 0 0 1 0 0 0 0 0 0 0 0 0 0 0 1 0 0 1 0 0 0\n",
      " 0 0 0 0 0 1 0 1 0 0 0 0 0 1 0 1 0 1 0 0 0 0 0 0 0 0 0 0 1 0 0 0 0 0 0 1 0\n",
      " 0 0 0 0 1 0 0 0 0 0 1 1 0 0 0 0 0 0 0 0 0 0 0 1 1 0 0 0 0 1 0 0 0 0 1 0 0\n",
      " 0 0 0 0 1 0 0 0 1 0 0 0 0 0 0 0 1 1 0 0 0 0 1 0 0 0 0 0 0 0 0 0 0 0 0 1 0\n",
      " 0 0 0 0 0 1 1 0 0 0 0 0 1 0 0 0]\n"
     ]
    }
   ],
   "source": [
    "print(y_test)"
   ]
  },
  {
   "cell_type": "code",
   "execution_count": 16,
   "id": "a2b5513a-8616-44b8-8652-588ca04ab233",
   "metadata": {},
   "outputs": [
    {
     "name": "stdout",
     "output_type": "stream",
     "text": [
      "[0 0 0 0 0 0 1 0 0 0 0 0 0 0 1 0 1 0 0 0 0 0 0 0 0 0 0 0 0 0 0 0 1 0 0 0 0\n",
      " 0 0 0 0 0 0 0 0 0 0 0 0 0 0 0 0 0 0 0 0 0 0 0 0 0 0 0 0 0 0 0 0 0 0 0 0 0\n",
      " 0 1 0 0 1 0 0 0 0 0 0 0 0 0 0 0 0 0 0 0 0 0 0 0 0 0 0 0 0 0 0 0 0 0 0 0 0\n",
      " 0 0 0 1 0 0 0 0 0 0 0 0 0 0 0 0 0 0 0 0 0 0 0 1 0 0 0 0 0 0 0 0 1 0 0 0 0\n",
      " 0 0 0 0 0 0 0 0 0 0 0 0 0 0 0 0 1 0 0 0 0 0 0 0 0 0 0 0 0 0 0 0 0 0 0 0 0\n",
      " 0 0 0 0 0 0 0 0 0 0 0 0 0 0 0 0 0 0 0 0 1 0 0 0 0 0 0 0 0 0 1 0 0 0 0 0 0\n",
      " 1 0 0 0 0 0 0 0 0 0 1 0 0 0 0 0 0 0 0 0 0 0 0 0 0 0 0 0 0 0 0 0 0 0 0 0 0\n",
      " 0 0 0 0 0 0 0 0 0 0 0 0 0 1 0 1 0 0 0 0 0 0 0 0 1 1 0 0 0 0 0 0 0 0 0 0 0\n",
      " 0 0 0 0 0 0 0 0 0 0 0 0 1 0 0 0 0 0 0 0 0 0 0 0 0 0 0 0 0 0 0 0 0 0 0 0 0\n",
      " 0 0 0 0 0 1 0 0 0 0 0 0 0 0 0 0 0 0 0 0 0 0 0 0 0 0 1 0 0 0 0 0 0 0 0 0 0\n",
      " 0 0 0 0 0 0 0 0 0 0 0 0 0 0 0 0 0 0 1 0 0 0 0 0 0 0 0 0 0 0 0 0 0 0 0 0 0\n",
      " 0 0 0 0 0 0 0 0 0 0 0 0 0 1 0 0 0 0 0 0 0 0 0 0 0 0 0 0 0 0 0 0 0 0 0 0 0\n",
      " 0 0 0 0 0 0 0 0 0 0 0 0 0 1 0 0 0 0 0 0 0 0 0 1 0 0 0 0 0 1 0 0 0 0 0 0 0\n",
      " 0 0 0 0 0 0 0 0 0 0 0 0 0 0 0 0 0 0 0 0 0 0 0 0 0 0 0 0 0 0 0 0 0 0 0 0 0\n",
      " 0 1 0 0 0 0 0 0 0 0 0 0 0 0 0 0]\n"
     ]
    }
   ],
   "source": [
    "print(y_pred)"
   ]
  },
  {
   "cell_type": "code",
   "execution_count": 17,
   "id": "275dca7c-9ae8-40e1-9738-6a57b68d5e80",
   "metadata": {},
   "outputs": [
    {
     "name": "stdout",
     "output_type": "stream",
     "text": [
      "Accuracy: 0.8764044943820225\n",
      "Precision: 0.8540146644439356\n",
      "Recall: 0.8764044943820225\n",
      "F1-score: 0.8509141981613891\n"
     ]
    }
   ],
   "source": [
    "from sklearn.metrics import accuracy_score,f1_score,precision_score,recall_score,confusion_matrix\n",
    "accuracy=accuracy_score(y_test,y_pred)\n",
    "precision=precision_score(y_test,y_pred,average='weighted')\n",
    "recall=recall_score(y_test,y_pred,average='weighted')\n",
    "f1score=f1_score(y_test,y_pred,average='weighted')\n",
    "print(\"Accuracy:\", accuracy)\n",
    "print(\"Precision:\", precision)\n",
    "print(\"Recall:\", recall)\n",
    "print(\"F1-score:\", f1score)"
   ]
  },
  {
   "cell_type": "code",
   "execution_count": null,
   "id": "c935f300-1fc4-42b7-8974-1a9d8eb5833f",
   "metadata": {},
   "outputs": [],
   "source": []
  }
 ],
 "metadata": {
  "kernelspec": {
   "display_name": "Python 3 (ipykernel)",
   "language": "python",
   "name": "python3"
  },
  "language_info": {
   "codemirror_mode": {
    "name": "ipython",
    "version": 3
   },
   "file_extension": ".py",
   "mimetype": "text/x-python",
   "name": "python",
   "nbconvert_exporter": "python",
   "pygments_lexer": "ipython3",
   "version": "3.11.8"
  }
 },
 "nbformat": 4,
 "nbformat_minor": 5
}
